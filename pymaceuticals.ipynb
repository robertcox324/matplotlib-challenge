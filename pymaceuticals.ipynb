{
 "cells": [
  {
   "cell_type": "markdown",
   "metadata": {},
   "source": [
    "## Dependencies and starter code"
   ]
  },
  {
   "cell_type": "code",
   "execution_count": 28,
   "metadata": {},
   "outputs": [],
   "source": [
    "#Conclusions\n",
    "#1) A heavier mouse will, on average, have a larger tumor than a smaller mouse.\n",
    "#2) Capomulin and Ramicane seem to be the most promising drug regimen overall, both consistently showing\n",
    "# a decrease in tumor volume and smaller tumors on average by the end of the regimen. They are also the drug regimen\n",
    "# with the highest total data points\n",
    "#3) the gender distribution of mice tested was very close to 50/50, so the data was not skewed to one gender or another\n",
    "\n",
    "# Dependencies and Setup\n",
    "import matplotlib.pyplot as plt\n",
    "import pandas as pd\n",
    "import scipy.stats as st\n",
    "\n",
    "# Study data files\n",
    "mouse_metadata = \"data/Mouse_metadata.csv\"\n",
    "study_results = \"data/Study_results.csv\"\n",
    "\n",
    "# Read the mouse data and the study results\n",
    "mouse_metadata = pd.read_csv(mouse_metadata)\n",
    "study_results = pd.read_csv(study_results)\n",
    "\n",
    "# Combine the data into a single dataset\n",
    "full_data = pd.merge(mouse_metadata, study_results, on=\"Mouse ID\") "
   ]
  },
  {
   "cell_type": "markdown",
   "metadata": {},
   "source": [
    "## Summary statistics"
   ]
  },
  {
   "cell_type": "code",
   "execution_count": 29,
   "metadata": {},
   "outputs": [
    {
     "data": {
      "text/html": [
       "<div>\n",
       "<style scoped>\n",
       "    .dataframe tbody tr th:only-of-type {\n",
       "        vertical-align: middle;\n",
       "    }\n",
       "\n",
       "    .dataframe tbody tr th {\n",
       "        vertical-align: top;\n",
       "    }\n",
       "\n",
       "    .dataframe thead th {\n",
       "        text-align: right;\n",
       "    }\n",
       "</style>\n",
       "<table border=\"1\" class=\"dataframe\">\n",
       "  <thead>\n",
       "    <tr style=\"text-align: right;\">\n",
       "      <th></th>\n",
       "      <th>mean</th>\n",
       "      <th>median</th>\n",
       "      <th>variance</th>\n",
       "      <th>standard deviation</th>\n",
       "      <th>Standard Error of the Mean (SEM)</th>\n",
       "    </tr>\n",
       "    <tr>\n",
       "      <th>Drug Regimen</th>\n",
       "      <th></th>\n",
       "      <th></th>\n",
       "      <th></th>\n",
       "      <th></th>\n",
       "      <th></th>\n",
       "    </tr>\n",
       "  </thead>\n",
       "  <tbody>\n",
       "    <tr>\n",
       "      <th>Capomulin</th>\n",
       "      <td>40.675741</td>\n",
       "      <td>41.557809</td>\n",
       "      <td>24.947764</td>\n",
       "      <td>4.994774</td>\n",
       "      <td>0.329346</td>\n",
       "    </tr>\n",
       "    <tr>\n",
       "      <th>Ramicane</th>\n",
       "      <td>40.216745</td>\n",
       "      <td>40.673236</td>\n",
       "      <td>23.486704</td>\n",
       "      <td>4.846308</td>\n",
       "      <td>0.320955</td>\n",
       "    </tr>\n",
       "    <tr>\n",
       "      <th>Ketapril</th>\n",
       "      <td>55.235638</td>\n",
       "      <td>53.698743</td>\n",
       "      <td>68.553577</td>\n",
       "      <td>8.279709</td>\n",
       "      <td>0.603860</td>\n",
       "    </tr>\n",
       "    <tr>\n",
       "      <th>Naftisol</th>\n",
       "      <td>54.331565</td>\n",
       "      <td>52.509285</td>\n",
       "      <td>66.173479</td>\n",
       "      <td>8.134708</td>\n",
       "      <td>0.596466</td>\n",
       "    </tr>\n",
       "    <tr>\n",
       "      <th>Zoniferol</th>\n",
       "      <td>53.236507</td>\n",
       "      <td>51.818479</td>\n",
       "      <td>48.533355</td>\n",
       "      <td>6.966589</td>\n",
       "      <td>0.516398</td>\n",
       "    </tr>\n",
       "    <tr>\n",
       "      <th>Stelasyn</th>\n",
       "      <td>54.233149</td>\n",
       "      <td>52.431737</td>\n",
       "      <td>59.450562</td>\n",
       "      <td>7.710419</td>\n",
       "      <td>0.573111</td>\n",
       "    </tr>\n",
       "    <tr>\n",
       "      <th>Placebo</th>\n",
       "      <td>54.033581</td>\n",
       "      <td>52.288934</td>\n",
       "      <td>61.168083</td>\n",
       "      <td>7.821003</td>\n",
       "      <td>0.581331</td>\n",
       "    </tr>\n",
       "    <tr>\n",
       "      <th>Infubinol</th>\n",
       "      <td>52.884795</td>\n",
       "      <td>51.820584</td>\n",
       "      <td>43.128684</td>\n",
       "      <td>6.567243</td>\n",
       "      <td>0.492236</td>\n",
       "    </tr>\n",
       "    <tr>\n",
       "      <th>Ceftamin</th>\n",
       "      <td>52.591172</td>\n",
       "      <td>51.776157</td>\n",
       "      <td>39.290177</td>\n",
       "      <td>6.268188</td>\n",
       "      <td>0.469821</td>\n",
       "    </tr>\n",
       "    <tr>\n",
       "      <th>Propriva</th>\n",
       "      <td>52.322552</td>\n",
       "      <td>50.854632</td>\n",
       "      <td>42.351070</td>\n",
       "      <td>6.507770</td>\n",
       "      <td>0.512884</td>\n",
       "    </tr>\n",
       "  </tbody>\n",
       "</table>\n",
       "</div>"
      ],
      "text/plain": [
       "                   mean     median   variance  standard deviation  \\\n",
       "Drug Regimen                                                        \n",
       "Capomulin     40.675741  41.557809  24.947764            4.994774   \n",
       "Ramicane      40.216745  40.673236  23.486704            4.846308   \n",
       "Ketapril      55.235638  53.698743  68.553577            8.279709   \n",
       "Naftisol      54.331565  52.509285  66.173479            8.134708   \n",
       "Zoniferol     53.236507  51.818479  48.533355            6.966589   \n",
       "Stelasyn      54.233149  52.431737  59.450562            7.710419   \n",
       "Placebo       54.033581  52.288934  61.168083            7.821003   \n",
       "Infubinol     52.884795  51.820584  43.128684            6.567243   \n",
       "Ceftamin      52.591172  51.776157  39.290177            6.268188   \n",
       "Propriva      52.322552  50.854632  42.351070            6.507770   \n",
       "\n",
       "              Standard Error of the Mean (SEM)  \n",
       "Drug Regimen                                    \n",
       "Capomulin                             0.329346  \n",
       "Ramicane                              0.320955  \n",
       "Ketapril                              0.603860  \n",
       "Naftisol                              0.596466  \n",
       "Zoniferol                             0.516398  \n",
       "Stelasyn                              0.573111  \n",
       "Placebo                               0.581331  \n",
       "Infubinol                             0.492236  \n",
       "Ceftamin                              0.469821  \n",
       "Propriva                              0.512884  "
      ]
     },
     "execution_count": 29,
     "metadata": {},
     "output_type": "execute_result"
    }
   ],
   "source": [
    "# Generate a summary statistics table of mean, median, variance, standard deviation, \n",
    "# and SEM of the tumor volume for each regimen\n",
    "full_data[\"Tumor Volume (mm3)\"].describe()\n",
    "\n",
    "#calculate each value we're interested in for each drug regimen\n",
    "mean = full_data.groupby(\"Drug Regimen\")[\"Tumor Volume (mm3)\"].mean()\n",
    "median = full_data.groupby(\"Drug Regimen\")[\"Tumor Volume (mm3)\"].median()\n",
    "variance = full_data.groupby(\"Drug Regimen\")[\"Tumor Volume (mm3)\"].var()\n",
    "std = full_data.groupby(\"Drug Regimen\")[\"Tumor Volume (mm3)\"].std()\n",
    "SEM = full_data.groupby(\"Drug Regimen\")[\"Tumor Volume (mm3)\"].sem()\n",
    "\n",
    "drugRegimen = full_data[\"Drug Regimen\"].value_counts().keys().tolist() #names of each drug regimen to use as index, \n",
    "#and for other calculations later as well\n",
    "\n",
    "#put the values found earlier into a dataframe to display it\n",
    "summaryStatisticsDF = pd.DataFrame({ \n",
    "    \"mean\": mean,\n",
    "    \"median\": median,\n",
    "    \"variance\": variance,\n",
    "    \"standard deviation\": std,\n",
    "    \"Standard Error of the Mean (SEM)\": SEM},\n",
    "    index = drugRegimen\n",
    ") \n",
    "summaryStatisticsDF.index.name = \"Drug Regimen\"\n",
    "summaryStatisticsDF.head(20)"
   ]
  },
  {
   "cell_type": "markdown",
   "metadata": {},
   "source": [
    "## Bar plots"
   ]
  },
  {
   "cell_type": "code",
   "execution_count": 30,
   "metadata": {},
   "outputs": [
    {
     "data": {
      "text/plain": [
       "Text(0, 0.5, 'Data Points')"
      ]
     },
     "execution_count": 30,
     "metadata": {},
     "output_type": "execute_result"
    },
    {
     "data": {
      "image/png": "[encoded data removed]",
      "text/plain": [
       "<Figure size 432x288 with 1 Axes>"
      ]
     },
     "metadata": {
      "needs_background": "light"
     },
     "output_type": "display_data"
    }
   ],
   "source": [
    "# Generate a bar plot showing number of data points for each treatment regimen using pandas \n",
    "regimenPlot = full_data.groupby(\"Drug Regimen\")[\"Sex\"].count().plot.bar(title = \"Number of data points for each regimen\") #plot the number of occurances of each drug regimen\n",
    "regimenPlot.set_ylabel(\"Data Points\")"
   ]
  },
  {
   "cell_type": "code",
   "execution_count": 31,
   "metadata": {},
   "outputs": [
    {
     "data": {
      "text/plain": [
       "Text(0, 0.5, 'Data Points')"
      ]
     },
     "execution_count": 31,
     "metadata": {},
     "output_type": "execute_result"
    },
    {
     "data": {
      "image/png": "[encoded data removed]",
      "text/plain": [
       "<Figure size 720x345.6 with 1 Axes>"
      ]
     },
     "metadata": {
      "needs_background": "light"
     },
     "output_type": "display_data"
    }
   ],
   "source": [
    "# Generate a bar plot showing number of data points for each treatment regimen using pyplot\n",
    "\n",
    "x1 = range(len(drugRegimen))\n",
    "x_axis = [2*i for i in x1] #space bars out a bit more/make bars smaller\n",
    "\n",
    "plt.figure(figsize=(10, 4.8)) #resize figure to make the x-axis labels readable, otherwise they overlap\n",
    "\n",
    "plt.bar(x_axis, full_data.groupby(\"Drug Regimen\")[\"Sex\"].count(), facecolor=\"red\", alpha=0.75, align=\"center\")\n",
    "plt.xticks(x_axis, sorted(drugRegimen)) \n",
    "\n",
    "plt.title(\"Occurance of each drug regimen\")\n",
    "plt.xlabel(\"Drug Regimen\")\n",
    "plt.ylabel(\"Data Points\")"
   ]
  },
  {
   "cell_type": "markdown",
   "metadata": {},
   "source": [
    "## Pie plots"
   ]
  },
  {
   "cell_type": "code",
   "execution_count": 32,
   "metadata": {},
   "outputs": [
    {
     "data": {
      "image/png": "[encoded data removed]",
      "text/plain": [
       "<Figure size 432x288 with 1 Axes>"
      ]
     },
     "metadata": {},
     "output_type": "display_data"
    }
   ],
   "source": [
    "# Generate a pie plot showing the distribution of female versus male mice using pandas\n",
    "genderPlot = full_data.groupby(\"Sex\")[\"Sex\"].count().plot.pie(title = \"Mouse Gender Distribution\")"
   ]
  },
  {
   "cell_type": "code",
   "execution_count": 33,
   "metadata": {},
   "outputs": [
    {
     "data": {
      "image/png": "[encoded data removed]",
      "text/plain": [
       "<Figure size 432x288 with 1 Axes>"
      ]
     },
     "metadata": {},
     "output_type": "display_data"
    }
   ],
   "source": [
    "# Generate a pie plot showing the distribution of female versus male mice using pyplot\n",
    "colors = [\"blue\", \"orange\"] #color the pie chart like the previous one, or at least similar to it\n",
    "labels = [\"Female\",\"Male\"] #ORDER MATTERS - if the order doesn't match the order of the data passed, it will mislabel it\n",
    "#Since groupby we're using goes by alphabetical order, that means female goes first\n",
    "\n",
    "plt.title(\"Mouse Gender Distribution\")\n",
    "plt.pie(full_data.groupby(\"Sex\")[\"Mouse ID\"].count(), labels=labels, colors=colors, autopct=\"%1.1f%%\") \n",
    "plt.ylabel(\"Sex\")\n",
    "plt.show()"
   ]
  },
  {
   "cell_type": "markdown",
   "metadata": {},
   "source": [
    "## Quartiles, outliers and boxplots"
   ]
  },
  {
   "cell_type": "code",
   "execution_count": 34,
   "metadata": {
    "scrolled": true
   },
   "outputs": [
    {
     "name": "stdout",
     "output_type": "stream",
     "text": [
      "Capomulin has no outliers\n",
      "Ramicane has no outliers\n",
      "Ifubinol Outliers: \n",
      "[36.321345799999996]\n",
      "Ceftamin has no outliers\n"
     ]
    }
   ],
   "source": [
    "#Calculate the final tumor volume of each mouse across four of the most promising treatment regimens.\n",
    "#Calculate the IQR and quantitatively determine if there are any potential outliers. \n",
    "\n",
    "regimen1 = full_data.loc[full_data['Drug Regimen'].isin([\"Capomulin\"])] #new dataframes to only have a single drug regimen included\n",
    "regimen2 = full_data.loc[full_data['Drug Regimen'].isin([\"Ramicane\"])]\n",
    "regimen3 = full_data.loc[full_data['Drug Regimen'].isin([\"Infubinol\"])]\n",
    "regimen4 = full_data.loc[full_data['Drug Regimen'].isin([\"Ceftamin\"])]\n",
    "\n",
    "mousedatapoints1 = regimen1.groupby(\"Mouse ID\")#group the regimen dfs by mouse ID\n",
    "mousedatapoints2 = regimen2.groupby(\"Mouse ID\")\n",
    "mousedatapoints3 = regimen3.groupby(\"Mouse ID\")\n",
    "mousedatapoints4 = regimen4.groupby(\"Mouse ID\")\n",
    "\n",
    "#create a dataframe of each mouse's final tumor volume for use with the following calculations\n",
    "finalTumorDF = pd.DataFrame({ \n",
    "    \"Capomulin\": full_data.loc[mousedatapoints1['Timepoint'].idxmax()][\"Tumor Volume (mm3)\"],\n",
    "    \"Ramicane\": full_data.loc[mousedatapoints2['Timepoint'].idxmax()][\"Tumor Volume (mm3)\"],\n",
    "    \"Infubinol\": full_data.loc[mousedatapoints3['Timepoint'].idxmax()][\"Tumor Volume (mm3)\"],\n",
    "    \"Ceftamin\": full_data.loc[mousedatapoints4['Timepoint'].idxmax()][\"Tumor Volume (mm3)\"]}\n",
    ") \n",
    "#IQRs for each drug regimen\n",
    "IQR1 = (finalTumorDF[\"Capomulin\"].quantile(0.75) - finalTumorDF[\"Capomulin\"].quantile(0.25)) \n",
    "IQR2 = (finalTumorDF[\"Ramicane\"].quantile(0.75) - finalTumorDF[\"Ramicane\"].quantile(0.25))\n",
    "IQR3 = (finalTumorDF[\"Infubinol\"].quantile(0.75) - finalTumorDF[\"Infubinol\"].quantile(0.25))\n",
    "IQR4 = (finalTumorDF[\"Ceftamin\"].quantile(0.75) - finalTumorDF[\"Ceftamin\"].quantile(0.25))\n",
    "\n",
    "#df for outliers above Q3\n",
    "s1 = finalTumorDF[finalTumorDF[\"Capomulin\"]  > (finalTumorDF[\"Capomulin\"].quantile(0.75) + 1.5 * IQR1)] \n",
    "#df for outliers below Q1\n",
    "s2 = finalTumorDF[finalTumorDF[\"Capomulin\"]  < (finalTumorDF[\"Capomulin\"].quantile(0.25) - 1.5 * IQR1)] \n",
    "CapomulinOutliers = pd.concat([s1,s2])[\"Capomulin\"].values.tolist() #create list of all outliers\n",
    "\n",
    "#repeat creating the outliers DF for all regimen\n",
    "s1 = finalTumorDF[finalTumorDF[\"Ramicane\"]  > (finalTumorDF[\"Ramicane\"].quantile(0.75) + 1.5 * IQR2)]\n",
    "s2 = finalTumorDF[finalTumorDF[\"Ramicane\"]  < (finalTumorDF[\"Ramicane\"].quantile(0.25) - 1.5 * IQR2)]\n",
    "RamicaneOutliers = pd.concat([s1,s2])[\"Ramicane\"].values.tolist()\n",
    "\n",
    "s1 = finalTumorDF[finalTumorDF[\"Infubinol\"]  > (finalTumorDF[\"Infubinol\"].quantile(0.75) + 1.5 * IQR3)]\n",
    "s2 = finalTumorDF[finalTumorDF[\"Infubinol\"]  < (finalTumorDF[\"Infubinol\"].quantile(0.25) - 1.5 * IQR3)]\n",
    "InfubinolOutliers = pd.concat([s1,s2])[\"Infubinol\"].values.tolist()\n",
    "\n",
    "s1 = finalTumorDF[finalTumorDF[\"Ceftamin\"]  > (finalTumorDF[\"Ceftamin\"].quantile(0.75) + 1.5 * IQR4)]\n",
    "s2 = finalTumorDF[finalTumorDF[\"Ceftamin\"]  < (finalTumorDF[\"Ceftamin\"].quantile(0.25) - 1.5 * IQR4)]\n",
    "CeftaminOutliers = pd.concat([s1,s2])[\"Ceftamin\"].values.tolist()\n",
    "\n",
    "#report outliers for each regimen, and note if there are no outliers\n",
    "if not CapomulinOutliers:\n",
    "    print('Capomulin has no outliers')\n",
    "else:\n",
    "    print(\"Capomulin Outliers: \")\n",
    "    print(CapomulinOutliers)\n",
    "if not RamicaneOutliers:\n",
    "    print('Ramicane has no outliers')\n",
    "else:\n",
    "    print(\"Ramicane Outliers: \")\n",
    "    print(RamicaneOutliers)\n",
    "if not InfubinolOutliers:\n",
    "    print('Ifubinol has no outliers')\n",
    "else:\n",
    "    print(\"Ifubinol Outliers: \")\n",
    "    print(InfubinolOutliers)\n",
    "if not CeftaminOutliers:\n",
    "    print('Ceftamin has no outliers')\n",
    "else:\n",
    "    print(\"Ceftamin Outliers: \")\n",
    "    print(CeftaminOutliers)"
   ]
  },
  {
   "cell_type": "code",
   "execution_count": 35,
   "metadata": {},
   "outputs": [
    {
     "data": {
      "image/png": "[encoded data removed]",
      "text/plain": [
       "<Figure size 432x288 with 1 Axes>"
      ]
     },
     "metadata": {
      "needs_background": "light"
     },
     "output_type": "display_data"
    }
   ],
   "source": [
    "# Generate a box plot of the final tumor volume of each mouse across four regimens of interest\n",
    "\n",
    "regimenBoxPlots = finalTumorDF.boxplot(column=['Capomulin','Ramicane','Infubinol','Ceftamin'])\n",
    "plt.title(\"Final Tumor Volume of Mice on each Drug Regimen\")\n",
    "plt.xlabel(\"Drug Regimen\")\n",
    "plt.ylabel(\"Final Tumor Volume\")\n",
    "plt.show()"
   ]
  },
  {
   "cell_type": "markdown",
   "metadata": {},
   "source": [
    "## Line and scatter plots"
   ]
  },
  {
   "cell_type": "code",
   "execution_count": 36,
   "metadata": {},
   "outputs": [
    {
     "data": {
      "image/png": "[encoded data removed]",
      "text/plain": [
       "<Figure size 432x288 with 1 Axes>"
      ]
     },
     "metadata": {
      "needs_background": "light"
     },
     "output_type": "display_data"
    }
   ],
   "source": [
    "# Generate a line plot of time point versus tumor volume for a mouse treated with Capomulin\n",
    "s185 = full_data.loc[full_data['Mouse ID'].isin([\"s185\"])] #select the mouse to plot\n",
    "\n",
    "plt.title(\"Tumor volume over time of mouse s185 (treated with Capomulin)\")\n",
    "plt.xlabel(\"Timepoint\")\n",
    "plt.ylabel(\"Tumor Volume (mm3)\")\n",
    "\n",
    "plt.xlim(0, 45)\n",
    "plt.ylim(0, 50)\n",
    "\n",
    "plt.plot(s185[\"Timepoint\"], s185[\"Tumor Volume (mm3)\"], marker=\"o\", color=\"red\", linewidth=1, label = \"s185\") \n",
    "plt.legend(loc=\"best\")\n",
    "plt.show()"
   ]
  },
  {
   "cell_type": "code",
   "execution_count": 41,
   "metadata": {},
   "outputs": [
    {
     "name": "stdout",
     "output_type": "stream",
     "text": [
      "The correlation coefficient between weight and average tumor volume on the Capomulin Regimen is 0.84\n"
     ]
    },
    {
     "data": {
      "image/png": "[encoded data removed]",
      "text/plain": [
       "<Figure size 432x288 with 1 Axes>"
      ]
     },
     "metadata": {
      "needs_background": "light"
     },
     "output_type": "display_data"
    }
   ],
   "source": [
    "# Generate a scatter plot of mouse weight versus -average tumor volume- for the Capomulin regimen\n",
    "\n",
    "#get a single weight value for each mouse\n",
    "#every mouse stays the same weight, I tested this to confirm, so any weight value will do as long as each mouse has one\n",
    "x_values = full_data.loc[mousedatapoints1['Timepoint'].idxmax()][\"Weight (g)\"] \n",
    "#get the average tumor volume for each mouse\n",
    "y_values = mousedatapoints1[\"Tumor Volume (mm3)\"].mean() \n",
    "\n",
    "plt.scatter(x_values,y_values,label=\"Mice\")\n",
    "plt.xlabel(\"Weight (g)\")\n",
    "plt.ylabel(\"Tumor Volume (mm3)\")\n",
    "plt.title(\"Weight vs Average Tumor Volume of mouse on Capomulin regimen\")\n",
    "plt.legend(loc=\"best\")\n",
    "\n",
    "# Calculate the correlation coefficient and linear regression model for mouse weight and \n",
    "# average tumor volume for the Capomulin regimen\n",
    "(slope, intercept, rvalue, pvalue, stderr) = st.linregress(x_values, y_values)\n",
    "regress_values = x_values * slope + intercept\n",
    "line_eq = \"y = \" + str(round(slope,2)) + \"x + \" + str(round(intercept,2))\n",
    "plt.plot(x_values,regress_values,\"r-\")\n",
    "plt.annotate(line_eq,(20,38),fontsize=15,color=\"red\")\n",
    "\n",
    "print(f\"The correlation coefficient between weight and average tumor volume on the Capomulin Regimen is {round(st.pearsonr(x_values,y_values)[0],2)}\")\n",
    "plt.show()"
   ]
  }
 ],
 "metadata": {
  "anaconda-cloud": {},
  "kernelspec": {
   "display_name": "Python [conda env:.conda-PythonData] *",
   "language": "python",
   "name": "conda-env-.conda-PythonData-py"
  },
  "language_info": {
   "codemirror_mode": {
    "name": "ipython",
    "version": 3
   },
   "file_extension": ".py",
   "mimetype": "text/x-python",
   "name": "python",
   "nbconvert_exporter": "python",
   "pygments_lexer": "ipython3",
   "version": "3.6.10"
  }
 },
 "nbformat": 4,
 "nbformat_minor": 2
}
